{
 "cells": [
  {
   "cell_type": "code",
   "execution_count": 1,
   "metadata": {},
   "outputs": [
    {
     "name": "stdout",
     "output_type": "stream",
     "text": [
      "Requirement already satisfied: quandl in e:\\anaconda\\lib\\site-packages (3.6.0)\n",
      "Requirement already satisfied: inflection>=0.3.1 in e:\\anaconda\\lib\\site-packages (from quandl) (0.5.1)\n",
      "Requirement already satisfied: requests>=2.7.0 in e:\\anaconda\\lib\\site-packages (from quandl) (2.24.0)\n",
      "Requirement already satisfied: pandas>=0.14 in e:\\anaconda\\lib\\site-packages (from quandl) (1.1.3)\n",
      "Requirement already satisfied: more-itertools in e:\\anaconda\\lib\\site-packages (from quandl) (8.6.0)\n",
      "Requirement already satisfied: python-dateutil in e:\\anaconda\\lib\\site-packages (from quandl) (2.8.1)\n",
      "Requirement already satisfied: numpy>=1.8 in e:\\anaconda\\lib\\site-packages (from quandl) (1.19.2)\n",
      "Requirement already satisfied: six in e:\\anaconda\\lib\\site-packages (from quandl) (1.15.0)\n",
      "Requirement already satisfied: idna<3,>=2.5 in e:\\anaconda\\lib\\site-packages (from requests>=2.7.0->quandl) (2.10)\n",
      "Requirement already satisfied: urllib3!=1.25.0,!=1.25.1,<1.26,>=1.21.1 in e:\\anaconda\\lib\\site-packages (from requests>=2.7.0->quandl) (1.25.11)\n",
      "Requirement already satisfied: chardet<4,>=3.0.2 in e:\\anaconda\\lib\\site-packages (from requests>=2.7.0->quandl) (3.0.4)\n",
      "Requirement already satisfied: certifi>=2017.4.17 in e:\\anaconda\\lib\\site-packages (from requests>=2.7.0->quandl) (2020.6.20)\n",
      "Requirement already satisfied: pytz>=2017.2 in e:\\anaconda\\lib\\site-packages (from pandas>=0.14->quandl) (2020.1)\n",
      "Note: you may need to restart the kernel to use updated packages.\n"
     ]
    }
   ],
   "source": [
    "pip install quandl"
   ]
  },
  {
   "cell_type": "code",
   "execution_count": 2,
   "metadata": {},
   "outputs": [],
   "source": [
    "import quandl"
   ]
  },
  {
   "cell_type": "code",
   "execution_count": 3,
   "metadata": {},
   "outputs": [],
   "source": [
    "import pandas as ps\n",
    "import numpy as np\n",
    "import matplotlib.pyplot as plt\n",
    "import seaborn as sns"
   ]
  },
  {
   "cell_type": "code",
   "execution_count": 4,
   "metadata": {},
   "outputs": [],
   "source": [
    "quandl.ApiConfig.api_key = \"yozoBysCQGaxfpCUwa1t\""
   ]
  },
  {
   "cell_type": "code",
   "execution_count": 5,
   "metadata": {},
   "outputs": [],
   "source": [
    "df=quandl.get(\"EOD/AAPL\")"
   ]
  },
  {
   "cell_type": "code",
   "execution_count": 6,
   "metadata": {},
   "outputs": [
    {
     "data": {
      "text/html": [
       "<div>\n",
       "<style scoped>\n",
       "    .dataframe tbody tr th:only-of-type {\n",
       "        vertical-align: middle;\n",
       "    }\n",
       "\n",
       "    .dataframe tbody tr th {\n",
       "        vertical-align: top;\n",
       "    }\n",
       "\n",
       "    .dataframe thead th {\n",
       "        text-align: right;\n",
       "    }\n",
       "</style>\n",
       "<table border=\"1\" class=\"dataframe\">\n",
       "  <thead>\n",
       "    <tr style=\"text-align: right;\">\n",
       "      <th></th>\n",
       "      <th>Open</th>\n",
       "      <th>High</th>\n",
       "      <th>Low</th>\n",
       "      <th>Close</th>\n",
       "      <th>Volume</th>\n",
       "      <th>Dividend</th>\n",
       "      <th>Split</th>\n",
       "      <th>Adj_Open</th>\n",
       "      <th>Adj_High</th>\n",
       "      <th>Adj_Low</th>\n",
       "      <th>Adj_Close</th>\n",
       "      <th>Adj_Volume</th>\n",
       "    </tr>\n",
       "    <tr>\n",
       "      <th>Date</th>\n",
       "      <th></th>\n",
       "      <th></th>\n",
       "      <th></th>\n",
       "      <th></th>\n",
       "      <th></th>\n",
       "      <th></th>\n",
       "      <th></th>\n",
       "      <th></th>\n",
       "      <th></th>\n",
       "      <th></th>\n",
       "      <th></th>\n",
       "      <th></th>\n",
       "    </tr>\n",
       "  </thead>\n",
       "  <tbody>\n",
       "    <tr>\n",
       "      <th>2013-09-03</th>\n",
       "      <td>493.10</td>\n",
       "      <td>500.600</td>\n",
       "      <td>487.350</td>\n",
       "      <td>488.580</td>\n",
       "      <td>11854600.0</td>\n",
       "      <td>0.0</td>\n",
       "      <td>1.0</td>\n",
       "      <td>15.619650</td>\n",
       "      <td>15.857223</td>\n",
       "      <td>15.437510</td>\n",
       "      <td>15.476472</td>\n",
       "      <td>331928800.0</td>\n",
       "    </tr>\n",
       "    <tr>\n",
       "      <th>2013-09-04</th>\n",
       "      <td>499.56</td>\n",
       "      <td>502.240</td>\n",
       "      <td>496.280</td>\n",
       "      <td>498.691</td>\n",
       "      <td>12322600.0</td>\n",
       "      <td>0.0</td>\n",
       "      <td>1.0</td>\n",
       "      <td>15.824280</td>\n",
       "      <td>15.909173</td>\n",
       "      <td>15.720381</td>\n",
       "      <td>15.796753</td>\n",
       "      <td>345032800.0</td>\n",
       "    </tr>\n",
       "    <tr>\n",
       "      <th>2013-09-05</th>\n",
       "      <td>500.25</td>\n",
       "      <td>500.680</td>\n",
       "      <td>493.640</td>\n",
       "      <td>495.270</td>\n",
       "      <td>8441700.0</td>\n",
       "      <td>0.0</td>\n",
       "      <td>1.0</td>\n",
       "      <td>15.846136</td>\n",
       "      <td>15.859757</td>\n",
       "      <td>15.636755</td>\n",
       "      <td>15.688388</td>\n",
       "      <td>236367600.0</td>\n",
       "    </tr>\n",
       "    <tr>\n",
       "      <th>2013-09-06</th>\n",
       "      <td>498.44</td>\n",
       "      <td>499.380</td>\n",
       "      <td>489.950</td>\n",
       "      <td>498.220</td>\n",
       "      <td>12840200.0</td>\n",
       "      <td>0.0</td>\n",
       "      <td>1.0</td>\n",
       "      <td>15.788802</td>\n",
       "      <td>15.818578</td>\n",
       "      <td>15.519869</td>\n",
       "      <td>15.781833</td>\n",
       "      <td>359525600.0</td>\n",
       "    </tr>\n",
       "    <tr>\n",
       "      <th>2013-09-09</th>\n",
       "      <td>505.00</td>\n",
       "      <td>507.920</td>\n",
       "      <td>503.480</td>\n",
       "      <td>506.170</td>\n",
       "      <td>12167400.0</td>\n",
       "      <td>0.0</td>\n",
       "      <td>1.0</td>\n",
       "      <td>15.996600</td>\n",
       "      <td>16.089095</td>\n",
       "      <td>15.948451</td>\n",
       "      <td>16.033661</td>\n",
       "      <td>340687200.0</td>\n",
       "    </tr>\n",
       "    <tr>\n",
       "      <th>...</th>\n",
       "      <td>...</td>\n",
       "      <td>...</td>\n",
       "      <td>...</td>\n",
       "      <td>...</td>\n",
       "      <td>...</td>\n",
       "      <td>...</td>\n",
       "      <td>...</td>\n",
       "      <td>...</td>\n",
       "      <td>...</td>\n",
       "      <td>...</td>\n",
       "      <td>...</td>\n",
       "      <td>...</td>\n",
       "    </tr>\n",
       "    <tr>\n",
       "      <th>2017-12-21</th>\n",
       "      <td>174.17</td>\n",
       "      <td>176.020</td>\n",
       "      <td>174.100</td>\n",
       "      <td>175.010</td>\n",
       "      <td>20949896.0</td>\n",
       "      <td>0.0</td>\n",
       "      <td>1.0</td>\n",
       "      <td>41.899570</td>\n",
       "      <td>42.344619</td>\n",
       "      <td>41.882730</td>\n",
       "      <td>42.101646</td>\n",
       "      <td>83799584.0</td>\n",
       "    </tr>\n",
       "    <tr>\n",
       "      <th>2017-12-22</th>\n",
       "      <td>174.68</td>\n",
       "      <td>175.424</td>\n",
       "      <td>174.500</td>\n",
       "      <td>175.010</td>\n",
       "      <td>16349444.0</td>\n",
       "      <td>0.0</td>\n",
       "      <td>1.0</td>\n",
       "      <td>42.022259</td>\n",
       "      <td>42.201241</td>\n",
       "      <td>41.978957</td>\n",
       "      <td>42.101646</td>\n",
       "      <td>65397776.0</td>\n",
       "    </tr>\n",
       "    <tr>\n",
       "      <th>2017-12-26</th>\n",
       "      <td>170.80</td>\n",
       "      <td>171.470</td>\n",
       "      <td>169.679</td>\n",
       "      <td>170.570</td>\n",
       "      <td>33185536.0</td>\n",
       "      <td>0.0</td>\n",
       "      <td>1.0</td>\n",
       "      <td>41.088858</td>\n",
       "      <td>41.250038</td>\n",
       "      <td>40.819183</td>\n",
       "      <td>41.033528</td>\n",
       "      <td>132742144.0</td>\n",
       "    </tr>\n",
       "    <tr>\n",
       "      <th>2017-12-27</th>\n",
       "      <td>170.10</td>\n",
       "      <td>170.780</td>\n",
       "      <td>169.710</td>\n",
       "      <td>170.600</td>\n",
       "      <td>21498213.0</td>\n",
       "      <td>0.0</td>\n",
       "      <td>1.0</td>\n",
       "      <td>40.920461</td>\n",
       "      <td>41.084047</td>\n",
       "      <td>40.826640</td>\n",
       "      <td>41.040745</td>\n",
       "      <td>85992852.0</td>\n",
       "    </tr>\n",
       "    <tr>\n",
       "      <th>2017-12-28</th>\n",
       "      <td>171.00</td>\n",
       "      <td>171.850</td>\n",
       "      <td>170.480</td>\n",
       "      <td>171.080</td>\n",
       "      <td>16480187.0</td>\n",
       "      <td>0.0</td>\n",
       "      <td>1.0</td>\n",
       "      <td>41.136972</td>\n",
       "      <td>41.341454</td>\n",
       "      <td>41.011877</td>\n",
       "      <td>41.156217</td>\n",
       "      <td>65920748.0</td>\n",
       "    </tr>\n",
       "  </tbody>\n",
       "</table>\n",
       "<p>1090 rows × 12 columns</p>\n",
       "</div>"
      ],
      "text/plain": [
       "              Open     High      Low    Close      Volume  Dividend  Split  \\\n",
       "Date                                                                         \n",
       "2013-09-03  493.10  500.600  487.350  488.580  11854600.0       0.0    1.0   \n",
       "2013-09-04  499.56  502.240  496.280  498.691  12322600.0       0.0    1.0   \n",
       "2013-09-05  500.25  500.680  493.640  495.270   8441700.0       0.0    1.0   \n",
       "2013-09-06  498.44  499.380  489.950  498.220  12840200.0       0.0    1.0   \n",
       "2013-09-09  505.00  507.920  503.480  506.170  12167400.0       0.0    1.0   \n",
       "...            ...      ...      ...      ...         ...       ...    ...   \n",
       "2017-12-21  174.17  176.020  174.100  175.010  20949896.0       0.0    1.0   \n",
       "2017-12-22  174.68  175.424  174.500  175.010  16349444.0       0.0    1.0   \n",
       "2017-12-26  170.80  171.470  169.679  170.570  33185536.0       0.0    1.0   \n",
       "2017-12-27  170.10  170.780  169.710  170.600  21498213.0       0.0    1.0   \n",
       "2017-12-28  171.00  171.850  170.480  171.080  16480187.0       0.0    1.0   \n",
       "\n",
       "             Adj_Open   Adj_High    Adj_Low  Adj_Close   Adj_Volume  \n",
       "Date                                                                 \n",
       "2013-09-03  15.619650  15.857223  15.437510  15.476472  331928800.0  \n",
       "2013-09-04  15.824280  15.909173  15.720381  15.796753  345032800.0  \n",
       "2013-09-05  15.846136  15.859757  15.636755  15.688388  236367600.0  \n",
       "2013-09-06  15.788802  15.818578  15.519869  15.781833  359525600.0  \n",
       "2013-09-09  15.996600  16.089095  15.948451  16.033661  340687200.0  \n",
       "...               ...        ...        ...        ...          ...  \n",
       "2017-12-21  41.899570  42.344619  41.882730  42.101646   83799584.0  \n",
       "2017-12-22  42.022259  42.201241  41.978957  42.101646   65397776.0  \n",
       "2017-12-26  41.088858  41.250038  40.819183  41.033528  132742144.0  \n",
       "2017-12-27  40.920461  41.084047  40.826640  41.040745   85992852.0  \n",
       "2017-12-28  41.136972  41.341454  41.011877  41.156217   65920748.0  \n",
       "\n",
       "[1090 rows x 12 columns]"
      ]
     },
     "execution_count": 6,
     "metadata": {},
     "output_type": "execute_result"
    }
   ],
   "source": [
    "df"
   ]
  },
  {
   "cell_type": "code",
   "execution_count": 7,
   "metadata": {},
   "outputs": [
    {
     "name": "stdout",
     "output_type": "stream",
     "text": [
      "<class 'pandas.core.frame.DataFrame'>\n",
      "DatetimeIndex: 1090 entries, 2013-09-03 to 2017-12-28\n",
      "Data columns (total 12 columns):\n",
      " #   Column      Non-Null Count  Dtype  \n",
      "---  ------      --------------  -----  \n",
      " 0   Open        1090 non-null   float64\n",
      " 1   High        1090 non-null   float64\n",
      " 2   Low         1090 non-null   float64\n",
      " 3   Close       1090 non-null   float64\n",
      " 4   Volume      1090 non-null   float64\n",
      " 5   Dividend    1090 non-null   float64\n",
      " 6   Split       1090 non-null   float64\n",
      " 7   Adj_Open    1090 non-null   float64\n",
      " 8   Adj_High    1090 non-null   float64\n",
      " 9   Adj_Low     1090 non-null   float64\n",
      " 10  Adj_Close   1090 non-null   float64\n",
      " 11  Adj_Volume  1090 non-null   float64\n",
      "dtypes: float64(12)\n",
      "memory usage: 110.7 KB\n"
     ]
    }
   ],
   "source": [
    "df.info()"
   ]
  },
  {
   "cell_type": "code",
   "execution_count": 8,
   "metadata": {},
   "outputs": [
    {
     "data": {
      "text/plain": [
       "(1090, 12)"
      ]
     },
     "execution_count": 8,
     "metadata": {},
     "output_type": "execute_result"
    }
   ],
   "source": [
    "df.shape"
   ]
  },
  {
   "cell_type": "code",
   "execution_count": 9,
   "metadata": {},
   "outputs": [
    {
     "data": {
      "text/plain": [
       "Dividend\n",
       "False       1073\n",
       "True          17\n",
       "dtype: int64"
      ]
     },
     "execution_count": 9,
     "metadata": {},
     "output_type": "execute_result"
    }
   ],
   "source": [
    "(df[['Dividend']]>0).value_counts()"
   ]
  },
  {
   "cell_type": "code",
   "execution_count": 10,
   "metadata": {},
   "outputs": [],
   "source": [
    "df['HL_PCT']=(df['Adj_High']-df['Adj_Low'])/df['Adj_Close']*100.0\n",
    "df['PCT_change']=(df['Adj_Close']-df['Adj_Open'])/df['Adj_Open']*100.0"
   ]
  },
  {
   "cell_type": "code",
   "execution_count": 11,
   "metadata": {},
   "outputs": [
    {
     "data": {
      "text/html": [
       "<div>\n",
       "<style scoped>\n",
       "    .dataframe tbody tr th:only-of-type {\n",
       "        vertical-align: middle;\n",
       "    }\n",
       "\n",
       "    .dataframe tbody tr th {\n",
       "        vertical-align: top;\n",
       "    }\n",
       "\n",
       "    .dataframe thead th {\n",
       "        text-align: right;\n",
       "    }\n",
       "</style>\n",
       "<table border=\"1\" class=\"dataframe\">\n",
       "  <thead>\n",
       "    <tr style=\"text-align: right;\">\n",
       "      <th></th>\n",
       "      <th>Open</th>\n",
       "      <th>High</th>\n",
       "      <th>Low</th>\n",
       "      <th>Close</th>\n",
       "      <th>Volume</th>\n",
       "      <th>Dividend</th>\n",
       "      <th>Split</th>\n",
       "      <th>Adj_Open</th>\n",
       "      <th>Adj_High</th>\n",
       "      <th>Adj_Low</th>\n",
       "      <th>Adj_Close</th>\n",
       "      <th>Adj_Volume</th>\n",
       "      <th>HL_PCT</th>\n",
       "      <th>PCT_change</th>\n",
       "    </tr>\n",
       "    <tr>\n",
       "      <th>Date</th>\n",
       "      <th></th>\n",
       "      <th></th>\n",
       "      <th></th>\n",
       "      <th></th>\n",
       "      <th></th>\n",
       "      <th></th>\n",
       "      <th></th>\n",
       "      <th></th>\n",
       "      <th></th>\n",
       "      <th></th>\n",
       "      <th></th>\n",
       "      <th></th>\n",
       "      <th></th>\n",
       "      <th></th>\n",
       "    </tr>\n",
       "  </thead>\n",
       "  <tbody>\n",
       "    <tr>\n",
       "      <th>2013-09-03</th>\n",
       "      <td>493.1000</td>\n",
       "      <td>500.6000</td>\n",
       "      <td>487.35</td>\n",
       "      <td>488.580</td>\n",
       "      <td>11854600.0</td>\n",
       "      <td>0.0</td>\n",
       "      <td>1.0</td>\n",
       "      <td>15.619650</td>\n",
       "      <td>15.857223</td>\n",
       "      <td>15.437510</td>\n",
       "      <td>15.476472</td>\n",
       "      <td>331928800.0</td>\n",
       "      <td>2.711941</td>\n",
       "      <td>-0.916650</td>\n",
       "    </tr>\n",
       "    <tr>\n",
       "      <th>2013-09-04</th>\n",
       "      <td>499.5600</td>\n",
       "      <td>502.2400</td>\n",
       "      <td>496.28</td>\n",
       "      <td>498.691</td>\n",
       "      <td>12322600.0</td>\n",
       "      <td>0.0</td>\n",
       "      <td>1.0</td>\n",
       "      <td>15.824280</td>\n",
       "      <td>15.909173</td>\n",
       "      <td>15.720381</td>\n",
       "      <td>15.796753</td>\n",
       "      <td>345032800.0</td>\n",
       "      <td>1.195129</td>\n",
       "      <td>-0.173953</td>\n",
       "    </tr>\n",
       "    <tr>\n",
       "      <th>2013-09-05</th>\n",
       "      <td>500.2500</td>\n",
       "      <td>500.6800</td>\n",
       "      <td>493.64</td>\n",
       "      <td>495.270</td>\n",
       "      <td>8441700.0</td>\n",
       "      <td>0.0</td>\n",
       "      <td>1.0</td>\n",
       "      <td>15.846136</td>\n",
       "      <td>15.859757</td>\n",
       "      <td>15.636755</td>\n",
       "      <td>15.688388</td>\n",
       "      <td>236367600.0</td>\n",
       "      <td>1.421447</td>\n",
       "      <td>-0.995502</td>\n",
       "    </tr>\n",
       "    <tr>\n",
       "      <th>2013-09-06</th>\n",
       "      <td>498.4400</td>\n",
       "      <td>499.3800</td>\n",
       "      <td>489.95</td>\n",
       "      <td>498.220</td>\n",
       "      <td>12840200.0</td>\n",
       "      <td>0.0</td>\n",
       "      <td>1.0</td>\n",
       "      <td>15.788802</td>\n",
       "      <td>15.818578</td>\n",
       "      <td>15.519869</td>\n",
       "      <td>15.781833</td>\n",
       "      <td>359525600.0</td>\n",
       "      <td>1.892738</td>\n",
       "      <td>-0.044138</td>\n",
       "    </tr>\n",
       "    <tr>\n",
       "      <th>2013-09-09</th>\n",
       "      <td>505.0000</td>\n",
       "      <td>507.9200</td>\n",
       "      <td>503.48</td>\n",
       "      <td>506.170</td>\n",
       "      <td>12167400.0</td>\n",
       "      <td>0.0</td>\n",
       "      <td>1.0</td>\n",
       "      <td>15.996600</td>\n",
       "      <td>16.089095</td>\n",
       "      <td>15.948451</td>\n",
       "      <td>16.033661</td>\n",
       "      <td>340687200.0</td>\n",
       "      <td>0.877176</td>\n",
       "      <td>0.231683</td>\n",
       "    </tr>\n",
       "    <tr>\n",
       "      <th>2013-09-10</th>\n",
       "      <td>506.2000</td>\n",
       "      <td>507.4500</td>\n",
       "      <td>489.50</td>\n",
       "      <td>494.640</td>\n",
       "      <td>26542700.0</td>\n",
       "      <td>0.0</td>\n",
       "      <td>1.0</td>\n",
       "      <td>16.034611</td>\n",
       "      <td>16.074207</td>\n",
       "      <td>15.505615</td>\n",
       "      <td>15.668432</td>\n",
       "      <td>743195600.0</td>\n",
       "      <td>3.628902</td>\n",
       "      <td>-2.283682</td>\n",
       "    </tr>\n",
       "    <tr>\n",
       "      <th>2013-09-11</th>\n",
       "      <td>467.0101</td>\n",
       "      <td>473.6900</td>\n",
       "      <td>464.81</td>\n",
       "      <td>467.710</td>\n",
       "      <td>32096300.0</td>\n",
       "      <td>0.0</td>\n",
       "      <td>1.0</td>\n",
       "      <td>14.793215</td>\n",
       "      <td>15.004810</td>\n",
       "      <td>14.723524</td>\n",
       "      <td>14.815385</td>\n",
       "      <td>898696400.0</td>\n",
       "      <td>1.898612</td>\n",
       "      <td>0.149868</td>\n",
       "    </tr>\n",
       "    <tr>\n",
       "      <th>2013-09-12</th>\n",
       "      <td>468.5000</td>\n",
       "      <td>475.4000</td>\n",
       "      <td>466.01</td>\n",
       "      <td>472.690</td>\n",
       "      <td>14430400.0</td>\n",
       "      <td>0.0</td>\n",
       "      <td>1.0</td>\n",
       "      <td>14.840410</td>\n",
       "      <td>15.058977</td>\n",
       "      <td>14.761535</td>\n",
       "      <td>14.973134</td>\n",
       "      <td>404051200.0</td>\n",
       "      <td>1.986503</td>\n",
       "      <td>0.894344</td>\n",
       "    </tr>\n",
       "    <tr>\n",
       "      <th>2013-09-13</th>\n",
       "      <td>469.3402</td>\n",
       "      <td>471.8292</td>\n",
       "      <td>464.70</td>\n",
       "      <td>464.900</td>\n",
       "      <td>10672700.0</td>\n",
       "      <td>0.0</td>\n",
       "      <td>1.0</td>\n",
       "      <td>14.867024</td>\n",
       "      <td>14.945867</td>\n",
       "      <td>14.720039</td>\n",
       "      <td>14.726374</td>\n",
       "      <td>298835600.0</td>\n",
       "      <td>1.533491</td>\n",
       "      <td>-0.946051</td>\n",
       "    </tr>\n",
       "    <tr>\n",
       "      <th>2013-09-16</th>\n",
       "      <td>461.0000</td>\n",
       "      <td>461.6099</td>\n",
       "      <td>447.22</td>\n",
       "      <td>450.120</td>\n",
       "      <td>19418100.0</td>\n",
       "      <td>0.0</td>\n",
       "      <td>1.0</td>\n",
       "      <td>14.602836</td>\n",
       "      <td>14.622156</td>\n",
       "      <td>14.166335</td>\n",
       "      <td>14.258197</td>\n",
       "      <td>543706800.0</td>\n",
       "      <td>3.196903</td>\n",
       "      <td>-2.360087</td>\n",
       "    </tr>\n",
       "  </tbody>\n",
       "</table>\n",
       "</div>"
      ],
      "text/plain": [
       "                Open      High     Low    Close      Volume  Dividend  Split  \\\n",
       "Date                                                                           \n",
       "2013-09-03  493.1000  500.6000  487.35  488.580  11854600.0       0.0    1.0   \n",
       "2013-09-04  499.5600  502.2400  496.28  498.691  12322600.0       0.0    1.0   \n",
       "2013-09-05  500.2500  500.6800  493.64  495.270   8441700.0       0.0    1.0   \n",
       "2013-09-06  498.4400  499.3800  489.95  498.220  12840200.0       0.0    1.0   \n",
       "2013-09-09  505.0000  507.9200  503.48  506.170  12167400.0       0.0    1.0   \n",
       "2013-09-10  506.2000  507.4500  489.50  494.640  26542700.0       0.0    1.0   \n",
       "2013-09-11  467.0101  473.6900  464.81  467.710  32096300.0       0.0    1.0   \n",
       "2013-09-12  468.5000  475.4000  466.01  472.690  14430400.0       0.0    1.0   \n",
       "2013-09-13  469.3402  471.8292  464.70  464.900  10672700.0       0.0    1.0   \n",
       "2013-09-16  461.0000  461.6099  447.22  450.120  19418100.0       0.0    1.0   \n",
       "\n",
       "             Adj_Open   Adj_High    Adj_Low  Adj_Close   Adj_Volume    HL_PCT  \\\n",
       "Date                                                                            \n",
       "2013-09-03  15.619650  15.857223  15.437510  15.476472  331928800.0  2.711941   \n",
       "2013-09-04  15.824280  15.909173  15.720381  15.796753  345032800.0  1.195129   \n",
       "2013-09-05  15.846136  15.859757  15.636755  15.688388  236367600.0  1.421447   \n",
       "2013-09-06  15.788802  15.818578  15.519869  15.781833  359525600.0  1.892738   \n",
       "2013-09-09  15.996600  16.089095  15.948451  16.033661  340687200.0  0.877176   \n",
       "2013-09-10  16.034611  16.074207  15.505615  15.668432  743195600.0  3.628902   \n",
       "2013-09-11  14.793215  15.004810  14.723524  14.815385  898696400.0  1.898612   \n",
       "2013-09-12  14.840410  15.058977  14.761535  14.973134  404051200.0  1.986503   \n",
       "2013-09-13  14.867024  14.945867  14.720039  14.726374  298835600.0  1.533491   \n",
       "2013-09-16  14.602836  14.622156  14.166335  14.258197  543706800.0  3.196903   \n",
       "\n",
       "            PCT_change  \n",
       "Date                    \n",
       "2013-09-03   -0.916650  \n",
       "2013-09-04   -0.173953  \n",
       "2013-09-05   -0.995502  \n",
       "2013-09-06   -0.044138  \n",
       "2013-09-09    0.231683  \n",
       "2013-09-10   -2.283682  \n",
       "2013-09-11    0.149868  \n",
       "2013-09-12    0.894344  \n",
       "2013-09-13   -0.946051  \n",
       "2013-09-16   -2.360087  "
      ]
     },
     "execution_count": 11,
     "metadata": {},
     "output_type": "execute_result"
    }
   ],
   "source": [
    "df.head(10)"
   ]
  },
  {
   "cell_type": "code",
   "execution_count": 12,
   "metadata": {},
   "outputs": [
    {
     "data": {
      "text/plain": [
       "<AxesSubplot:>"
      ]
     },
     "execution_count": 12,
     "metadata": {},
     "output_type": "execute_result"
    },
    {
     "data": {
      "image/png": "[encoded data removed]",
      "text/plain": [
       "<Figure size 792x648 with 2 Axes>"
      ]
     },
     "metadata": {
      "needs_background": "light"
     },
     "output_type": "display_data"
    }
   ],
   "source": [
    "corr = df.corr()\n",
    "    \n",
    "mask = np.triu(np.ones_like(corr, dtype=bool))\n",
    "\n",
    "f, ax = plt.subplots(figsize=(11,9))\n",
    "\n",
    "cmap = sns.diverging_palette(230, 20, as_cmap = True)\n",
    "\n",
    "sns.heatmap(corr, mask=mask, cmap=cmap, vmax=3, center=0, square=True, linewidth=.5, cbar_kws={\"shrink\": .5})"
   ]
  },
  {
   "cell_type": "code",
   "execution_count": 13,
   "metadata": {},
   "outputs": [],
   "source": [
    "df = df[['Adj_Close', 'Adj_Volume','PCT_change', 'HL_PCT']]"
   ]
  },
  {
   "cell_type": "code",
   "execution_count": 14,
   "metadata": {},
   "outputs": [
    {
     "data": {
      "text/plain": [
       "(1090, 4)"
      ]
     },
     "execution_count": 14,
     "metadata": {},
     "output_type": "execute_result"
    }
   ],
   "source": [
    "df.shape"
   ]
  },
  {
   "cell_type": "code",
   "execution_count": 15,
   "metadata": {},
   "outputs": [
    {
     "data": {
      "text/plain": [
       "<AxesSubplot:xlabel='Date'>"
      ]
     },
     "execution_count": 15,
     "metadata": {},
     "output_type": "execute_result"
    },
    {
     "data": {
      "image/png": "[encoded data removed]",
      "text/plain": [
       "<Figure size 720x576 with 1 Axes>"
      ]
     },
     "metadata": {
      "needs_background": "light"
     },
     "output_type": "display_data"
    }
   ],
   "source": [
    "df['Adj_Close'].pct_change().plot(figsize=(10,8),grid=True)"
   ]
  },
  {
   "cell_type": "code",
   "execution_count": 16,
   "metadata": {},
   "outputs": [
    {
     "data": {
      "text/html": [
       "<div>\n",
       "<style scoped>\n",
       "    .dataframe tbody tr th:only-of-type {\n",
       "        vertical-align: middle;\n",
       "    }\n",
       "\n",
       "    .dataframe tbody tr th {\n",
       "        vertical-align: top;\n",
       "    }\n",
       "\n",
       "    .dataframe thead th {\n",
       "        text-align: right;\n",
       "    }\n",
       "</style>\n",
       "<table border=\"1\" class=\"dataframe\">\n",
       "  <thead>\n",
       "    <tr style=\"text-align: right;\">\n",
       "      <th></th>\n",
       "      <th>Adj_Close</th>\n",
       "      <th>Adj_Volume</th>\n",
       "      <th>PCT_change</th>\n",
       "      <th>HL_PCT</th>\n",
       "    </tr>\n",
       "  </thead>\n",
       "  <tbody>\n",
       "    <tr>\n",
       "      <th>Adj_Close</th>\n",
       "      <td>1.000000</td>\n",
       "      <td>-0.553474</td>\n",
       "      <td>0.025237</td>\n",
       "      <td>-0.137288</td>\n",
       "    </tr>\n",
       "    <tr>\n",
       "      <th>Adj_Volume</th>\n",
       "      <td>-0.553474</td>\n",
       "      <td>1.000000</td>\n",
       "      <td>-0.079556</td>\n",
       "      <td>0.512480</td>\n",
       "    </tr>\n",
       "    <tr>\n",
       "      <th>PCT_change</th>\n",
       "      <td>0.025237</td>\n",
       "      <td>-0.079556</td>\n",
       "      <td>1.000000</td>\n",
       "      <td>-0.060349</td>\n",
       "    </tr>\n",
       "    <tr>\n",
       "      <th>HL_PCT</th>\n",
       "      <td>-0.137288</td>\n",
       "      <td>0.512480</td>\n",
       "      <td>-0.060349</td>\n",
       "      <td>1.000000</td>\n",
       "    </tr>\n",
       "  </tbody>\n",
       "</table>\n",
       "</div>"
      ],
      "text/plain": [
       "            Adj_Close  Adj_Volume  PCT_change    HL_PCT\n",
       "Adj_Close    1.000000   -0.553474    0.025237 -0.137288\n",
       "Adj_Volume  -0.553474    1.000000   -0.079556  0.512480\n",
       "PCT_change   0.025237   -0.079556    1.000000 -0.060349\n",
       "HL_PCT      -0.137288    0.512480   -0.060349  1.000000"
      ]
     },
     "execution_count": 16,
     "metadata": {},
     "output_type": "execute_result"
    }
   ],
   "source": [
    "df.corr()"
   ]
  },
  {
   "cell_type": "code",
   "execution_count": 17,
   "metadata": {},
   "outputs": [
    {
     "data": {
      "image/png": "[encoded data removed]",
      "text/plain": [
       "<Figure size 720x432 with 1 Axes>"
      ]
     },
     "metadata": {
      "needs_background": "light"
     },
     "output_type": "display_data"
    }
   ],
   "source": [
    "plt.figure(figsize=(10,6))\n",
    "plt.grid(True)\n",
    "plt.plot(df['Adj_Close'])\n",
    "\n",
    "plt.xlabel('Date')\n",
    "plt.ylabel('Closing Price')\n",
    "plt.title('Closing')\n",
    "plt.show()"
   ]
  },
  {
   "cell_type": "code",
   "execution_count": 24,
   "metadata": {
    "scrolled": true
   },
   "outputs": [
    {
     "name": "stdout",
     "output_type": "stream",
     "text": [
      "shape of df (1090, 4)\n",
      "label having null 10\n",
      "shape of label (1090,)\n",
      "shape of y after null (1080,)\n",
      "shape of x (1090, 3)\n",
      "new shape of x (1080, 3)\n"
     ]
    }
   ],
   "source": [
    "print('shape of df', df.shape )\n",
    "label=df[\"Adj_Close\"].shift(-10)\n",
    "\n",
    "print(\"label having null\", label.isna().sum())\n",
    "print(\"shape of label\", label.shape)\n",
    "\n",
    "#print(df['Adj_Close'])\n",
    "#print(label)\n",
    "\n",
    "label.dropna(inplace=True)\n",
    "y=np.array(label)\n",
    "\n",
    "print('shape of y after null', y.shape)\n",
    "\n",
    "x=(df[['Adj_Volume','HL_PCT','PCT_change']])\n",
    "print('shape of x', x.shape)\n",
    "x_lately=x[-10:] \n",
    "x=x[:-10]\n",
    "print(\"new shape of x\", x.shape)\n",
    "\n"
   ]
  },
  {
   "cell_type": "code",
   "execution_count": 25,
   "metadata": {},
   "outputs": [
    {
     "name": "stdout",
     "output_type": "stream",
     "text": [
      "(1080,)\n",
      "(1080, 3)\n"
     ]
    }
   ],
   "source": [
    "print(y.shape)\n",
    "print(x.shape)"
   ]
  },
  {
   "cell_type": "code",
   "execution_count": 26,
   "metadata": {},
   "outputs": [],
   "source": [
    "from sklearn.model_selection import train_test_split\n",
    "x_train,x_test,y_train,y_test = train_test_split(x,y, test_size=0.3,random_state=41)"
   ]
  },
  {
   "cell_type": "code",
   "execution_count": 27,
   "metadata": {},
   "outputs": [],
   "source": [
    "from sklearn.preprocessing import MinMaxScaler"
   ]
  },
  {
   "cell_type": "code",
   "execution_count": 28,
   "metadata": {},
   "outputs": [],
   "source": [
    "normal=MinMaxScaler().fit(x_train)\n",
    "x_train=normal.transform(x_train)\n",
    "x_test=normal.transform(x_test)\n",
    "x_lately=normal.transform(x_lately)"
   ]
  },
  {
   "cell_type": "code",
   "execution_count": 30,
   "metadata": {},
   "outputs": [],
   "source": [
    "from sklearn.linear_model import LinearRegression\n",
    "model=LinearRegression()\n",
    "model.fit(x_train,y_train)\n",
    "result=model.score(x_test,y_test)"
   ]
  },
  {
   "cell_type": "code",
   "execution_count": 32,
   "metadata": {},
   "outputs": [
    {
     "name": "stdout",
     "output_type": "stream",
     "text": [
      "30.598998615852057\n",
      "[-36.7674737   21.82564716  -1.28075629]\n"
     ]
    }
   ],
   "source": [
    "intercept=model.intercept_\n",
    "coefficient=model.coef_\n",
    "print(intercept)\n",
    "print(coefficient)"
   ]
  },
  {
   "cell_type": "code",
   "execution_count": 33,
   "metadata": {},
   "outputs": [],
   "source": [
    "new=[]\n",
    "ne=model.predict(x_lately)\n",
    "y_pred=model.predict(x_test)"
   ]
  },
  {
   "cell_type": "code",
   "execution_count": 35,
   "metadata": {},
   "outputs": [
    {
     "name": "stdout",
     "output_type": "stream",
     "text": [
      "30.205494665582542\n"
     ]
    }
   ],
   "source": [
    "from sklearn.metrics import mean_squared_error, r2_score\n",
    "mse=mean_squared_error(y_test,y_pred)\n",
    "print(mse)"
   ]
  },
  {
   "cell_type": "code",
   "execution_count": null,
   "metadata": {},
   "outputs": [],
   "source": []
  }
 ],
 "metadata": {
  "kernelspec": {
   "display_name": "Python 3",
   "language": "python",
   "name": "python3"
  },
  "language_info": {
   "codemirror_mode": {
    "name": "ipython",
    "version": 3
   },
   "file_extension": ".py",
   "mimetype": "text/x-python",
   "name": "python",
   "nbconvert_exporter": "python",
   "pygments_lexer": "ipython3",
   "version": "3.8.5"
  }
 },
 "nbformat": 4,
 "nbformat_minor": 4
}
